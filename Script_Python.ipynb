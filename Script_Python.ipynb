{
  "nbformat": 4,
  "nbformat_minor": 0,
  "metadata": {
    "colab": {
      "name": "Script_Python.ipynb",
      "provenance": [],
      "toc_visible": true,
      "collapsed_sections": [
        "87__2ux7qc9V",
        "oLL8_ziQw0Fz",
        "TQ2AzXeqTllW",
        "Tes8Wr9jj48_",
        "EzcQuQoWry9R",
        "zNPaaLH5hb6J",
        "y3PwRc3kijsi"
      ],
      "authorship_tag": "ABX9TyPlE71sgD+a5ShAs8oFd6G5",
      "include_colab_link": true
    },
    "kernelspec": {
      "name": "python3",
      "display_name": "Python 3"
    },
    "language_info": {
      "name": "python"
    }
  },
  "cells": [
    {
      "cell_type": "markdown",
      "metadata": {
        "id": "view-in-github",
        "colab_type": "text"
      },
      "source": [
        "<a href=\"https://colab.research.google.com/github/ricardodm89/python-analise-dados/blob/master/Script_Python.ipynb\" target=\"_parent\"><img src=\"https://colab.research.google.com/assets/colab-badge.svg\" alt=\"Open In Colab\"/></a>"
      ]
    },
    {
      "cell_type": "markdown",
      "source": [
        "#1 - Sintaxe Básica\n"
      ],
      "metadata": {
        "id": "x-Ya95cc9Qac"
      }
    },
    {
      "cell_type": "code",
      "execution_count": null,
      "metadata": {
        "colab": {
          "base_uri": "https://localhost:8080/"
        },
        "id": "EV8S32Y56pwT",
        "outputId": "d7983433-0d4c-4aa0-8dc1-2c79fd1be6fb"
      },
      "outputs": [
        {
          "output_type": "stream",
          "name": "stdout",
          "text": [
            "Bem vindo ao curso !\n"
          ]
        }
      ],
      "source": [
        "print('Bem vindo ao curso de Python!')"
      ]
    },
    {
      "cell_type": "code",
      "source": [
        "print(\"Bem vindo ao curso de Python!\")"
      ],
      "metadata": {
        "colab": {
          "base_uri": "https://localhost:8080/"
        },
        "id": "Sszma2wif-0l",
        "outputId": "96a5774c-1e80-463b-9918-e61ac0ad47b8"
      },
      "execution_count": null,
      "outputs": [
        {
          "output_type": "stream",
          "name": "stdout",
          "text": [
            "Bem vindo ao curso de Python!\n"
          ]
        }
      ]
    },
    {
      "cell_type": "code",
      "source": [
        "# Comentário  de linha"
      ],
      "metadata": {
        "id": "JCIWIo_yifS4"
      },
      "execution_count": null,
      "outputs": []
    },
    {
      "cell_type": "code",
      "source": [
        "'''\n",
        "  Comentário de bloco !\n",
        "  linha 1\n",
        "  linha 2\n",
        "'''"
      ],
      "metadata": {
        "colab": {
          "base_uri": "https://localhost:8080/",
          "height": 35
        },
        "id": "6hh_2gsLimlK",
        "outputId": "88baa080-1894-4ce0-cc52-4256157d967a"
      },
      "execution_count": null,
      "outputs": [
        {
          "output_type": "execute_result",
          "data": {
            "text/plain": [
              "'\\n  Comentário de bloco !\\n  linha 1\\n  linha 2\\n'"
            ],
            "application/vnd.google.colaboratory.intrinsic+json": {
              "type": "string"
            }
          },
          "metadata": {},
          "execution_count": 11
        }
      ]
    },
    {
      "cell_type": "code",
      "source": [
        "print('quebrando linhas \\n quebrando linhas')"
      ],
      "metadata": {
        "colab": {
          "base_uri": "https://localhost:8080/"
        },
        "id": "B7DfuoFLm3eH",
        "outputId": "3f7c4572-abd2-4d99-886a-4f6aa6e91be5"
      },
      "execution_count": null,
      "outputs": [
        {
          "output_type": "stream",
          "name": "stdout",
          "text": [
            "quebrando linhas \n",
            " quebrando linhas\n"
          ]
        }
      ]
    },
    {
      "cell_type": "markdown",
      "source": [
        "# 2 - Operadores matemáticos"
      ],
      "metadata": {
        "id": "87__2ux7qc9V"
      }
    },
    {
      "cell_type": "markdown",
      "source": [
        "Os operadores são usados para realizar operações em variáveis e valores:\n",
        "\n",
        "1. Soma\n",
        "2. Subtração\n",
        "3. Multiplicação\n",
        "4. Divisão\n",
        "5. Exponenciação\n",
        "6. Resto da Divisão\n",
        "7. Divisão de Chão"
      ],
      "metadata": {
        "id": "hPjbMoYBqrhG"
      }
    },
    {
      "cell_type": "code",
      "source": [
        "# soma\n",
        "1 + 3 * 4"
      ],
      "metadata": {
        "colab": {
          "base_uri": "https://localhost:8080/"
        },
        "id": "bLZs_yJFqqHX",
        "outputId": "d79a73e6-2d19-4675-c80e-7b489fdde97e"
      },
      "execution_count": null,
      "outputs": [
        {
          "output_type": "execute_result",
          "data": {
            "text/plain": [
              "13"
            ]
          },
          "metadata": {},
          "execution_count": 15
        }
      ]
    },
    {
      "cell_type": "code",
      "source": [
        "# subtração\n",
        "5 - 3"
      ],
      "metadata": {
        "colab": {
          "base_uri": "https://localhost:8080/"
        },
        "id": "Mj4xDYBpq4wR",
        "outputId": "0555a3bc-38f6-41c1-8904-02ee7cc19f26"
      },
      "execution_count": null,
      "outputs": [
        {
          "output_type": "execute_result",
          "data": {
            "text/plain": [
              "2"
            ]
          },
          "metadata": {},
          "execution_count": 16
        }
      ]
    },
    {
      "cell_type": "code",
      "source": [
        "# multiplicação\n",
        "3 * 15"
      ],
      "metadata": {
        "colab": {
          "base_uri": "https://localhost:8080/"
        },
        "id": "_Eriok8bsECN",
        "outputId": "2ab7aca0-45d1-4d94-9953-633f5e146068"
      },
      "execution_count": null,
      "outputs": [
        {
          "output_type": "execute_result",
          "data": {
            "text/plain": [
              "45"
            ]
          },
          "metadata": {},
          "execution_count": 17
        }
      ]
    },
    {
      "cell_type": "code",
      "source": [
        "# divisão\n",
        "8 / 4"
      ],
      "metadata": {
        "colab": {
          "base_uri": "https://localhost:8080/"
        },
        "id": "j50_WInUsLLb",
        "outputId": "1fcc8b70-eabf-4234-8888-a2390da5abf0"
      },
      "execution_count": null,
      "outputs": [
        {
          "output_type": "execute_result",
          "data": {
            "text/plain": [
              "2.0"
            ]
          },
          "metadata": {},
          "execution_count": 19
        }
      ]
    },
    {
      "cell_type": "code",
      "source": [
        "# exponenciação\n",
        "2 ** 3  # (2 x 2 x 2)"
      ],
      "metadata": {
        "colab": {
          "base_uri": "https://localhost:8080/"
        },
        "id": "vTw4jyEpsS46",
        "outputId": "0256aebf-9129-4763-a14e-98ee2c513163"
      },
      "execution_count": null,
      "outputs": [
        {
          "output_type": "execute_result",
          "data": {
            "text/plain": [
              "8"
            ]
          },
          "metadata": {},
          "execution_count": 21
        }
      ]
    },
    {
      "cell_type": "code",
      "source": [
        "# resto da divisão\n",
        "16 % 2"
      ],
      "metadata": {
        "colab": {
          "base_uri": "https://localhost:8080/"
        },
        "id": "-iDDV_Vtsd7N",
        "outputId": "e1d8db40-f4f6-43a8-9d4b-ffbed97eee03"
      },
      "execution_count": null,
      "outputs": [
        {
          "output_type": "execute_result",
          "data": {
            "text/plain": [
              "0"
            ]
          },
          "metadata": {},
          "execution_count": 25
        }
      ]
    },
    {
      "cell_type": "code",
      "source": [
        "# divisão de chão\n",
        "36 // 4"
      ],
      "metadata": {
        "colab": {
          "base_uri": "https://localhost:8080/"
        },
        "id": "wOfGURcnsjmD",
        "outputId": "1cf69d42-c67d-4b1b-b7e6-66ab7f290399"
      },
      "execution_count": null,
      "outputs": [
        {
          "output_type": "execute_result",
          "data": {
            "text/plain": [
              "9"
            ]
          },
          "metadata": {},
          "execution_count": 27
        }
      ]
    },
    {
      "cell_type": "code",
      "source": [
        "# priorização\n",
        "(2 + 2) * 5"
      ],
      "metadata": {
        "colab": {
          "base_uri": "https://localhost:8080/"
        },
        "id": "c87k8NWluL07",
        "outputId": "99167c5e-a029-4563-8c41-97bc934ad96d"
      },
      "execution_count": null,
      "outputs": [
        {
          "output_type": "execute_result",
          "data": {
            "text/plain": [
              "20"
            ]
          },
          "metadata": {},
          "execution_count": 30
        }
      ]
    },
    {
      "cell_type": "markdown",
      "source": [
        "# 3 - Variáveis"
      ],
      "metadata": {
        "id": "oLL8_ziQw0Fz"
      }
    },
    {
      "cell_type": "code",
      "source": [
        "nome = 'ricardo'\n",
        "nome"
      ],
      "metadata": {
        "id": "aXFuC3hbw_nB",
        "colab": {
          "base_uri": "https://localhost:8080/",
          "height": 35
        },
        "outputId": "d7d7657a-107f-44f3-bcd4-c2738bbd8dbf"
      },
      "execution_count": null,
      "outputs": [
        {
          "output_type": "execute_result",
          "data": {
            "text/plain": [
              "'ricardo'"
            ],
            "application/vnd.google.colaboratory.intrinsic+json": {
              "type": "string"
            }
          },
          "metadata": {},
          "execution_count": 2
        }
      ]
    },
    {
      "cell_type": "code",
      "source": [
        "# Variaveis de Texto\n",
        "var_Texto_01 = 'qualquer texto'\n",
        "var_Texto_02 = str('qualquer texto - string')\n",
        "\n",
        "print(var_Texto_01, var_Texto_02)"
      ],
      "metadata": {
        "colab": {
          "base_uri": "https://localhost:8080/"
        },
        "id": "ec-wUZE_Q6se",
        "outputId": "b183b2f2-b6e0-47ee-9437-1e0e33ebf7a6"
      },
      "execution_count": null,
      "outputs": [
        {
          "output_type": "stream",
          "name": "stdout",
          "text": [
            "qualquer texto qualquer texto - string\n"
          ]
        }
      ]
    },
    {
      "cell_type": "code",
      "source": [
        "# Variaveis numéricas\n",
        "\n",
        "var_inteiro_01 = 100\n",
        "var_inteiro_02 = int(200)\n",
        "\n",
        "print(var_inteiro_01, var_inteiro_02)"
      ],
      "metadata": {
        "colab": {
          "base_uri": "https://localhost:8080/"
        },
        "id": "SHoSiuSKRb0r",
        "outputId": "ed77348c-9129-4524-e6df-b89549d64cf3"
      },
      "execution_count": null,
      "outputs": [
        {
          "output_type": "stream",
          "name": "stdout",
          "text": [
            "100 200\n"
          ]
        }
      ]
    },
    {
      "cell_type": "code",
      "source": [
        "# Variaveis flutuantes\n",
        "var_flutuantes_01 = 10.90\n",
        "var_flutuantes_02 = float(10.50)\n",
        "\n",
        "print(var_flutuantes_01, var_flutuantes_02)"
      ],
      "metadata": {
        "id": "xIUFMlzpSM-3"
      },
      "execution_count": null,
      "outputs": []
    },
    {
      "cell_type": "code",
      "source": [
        "# variaveis booleanas\n",
        "var_boolean_01 = True\n",
        "var_boolean_02 = False\n",
        "\n",
        "print(var_boolean_01, var_boolean_02)\n",
        "\n"
      ],
      "metadata": {
        "colab": {
          "base_uri": "https://localhost:8080/"
        },
        "id": "hRQCJ0QFSpcI",
        "outputId": "2e080453-b7d3-4c8a-c3fe-d8c1931d3e67"
      },
      "execution_count": null,
      "outputs": [
        {
          "output_type": "stream",
          "name": "stdout",
          "text": [
            "True False\n"
          ]
        }
      ]
    },
    {
      "cell_type": "markdown",
      "source": [
        "# 4 - Tipos de Dados"
      ],
      "metadata": {
        "id": "TQ2AzXeqTllW"
      }
    },
    {
      "cell_type": "markdown",
      "source": [
        "1. Listas: [ ]\n",
        "2. Tuplas: ( )\n",
        "3. Dicionários: { }"
      ],
      "metadata": {
        "id": "F3bV1iiVUFA-"
      }
    },
    {
      "cell_type": "code",
      "source": [
        "# Listas\n",
        "Lista_valores_01 = [1,2,'tres', True, [1,2,3]]\n",
        "\n",
        "Lista_valores_01"
      ],
      "metadata": {
        "colab": {
          "base_uri": "https://localhost:8080/"
        },
        "id": "6l1zp0aYUZqT",
        "outputId": "37648215-baf9-456b-e0bc-dc799dde2f30"
      },
      "execution_count": null,
      "outputs": [
        {
          "output_type": "execute_result",
          "data": {
            "text/plain": [
              "[1, 2, 'tres', True, [1, 2, 3]]"
            ]
          },
          "metadata": {},
          "execution_count": 11
        }
      ]
    },
    {
      "cell_type": "code",
      "source": [
        "# Tuplas  !! são imutaveis\n",
        "Tupla_01 = (1,2,3,4)\n",
        "Tupla_02 = ('Texto', False, 2, 2.33)\n",
        "\n",
        "Tupla_01, Tupla_02"
      ],
      "metadata": {
        "colab": {
          "base_uri": "https://localhost:8080/"
        },
        "id": "DTkTmtivVCZG",
        "outputId": "1996c4d5-05b2-4644-ddab-2b5970c7c490"
      },
      "execution_count": null,
      "outputs": [
        {
          "output_type": "execute_result",
          "data": {
            "text/plain": [
              "((1, 2, 3, 4), ('Texto', False, 2, 2.33))"
            ]
          },
          "metadata": {},
          "execution_count": 16
        }
      ]
    },
    {
      "cell_type": "code",
      "source": [
        "# Dicionarios {objetos}\n",
        "Dicionario = {\n",
        "     'Index' : 'Valor',\n",
        "     'Id' : 1,\n",
        "     'Id' : 2,\n",
        "     'Nome' : 'Ricardo',\n",
        "     'Lista' : Lista_valores_01,\n",
        "     'Tupla' : Tupla_02\n",
        " }\n",
        "\n",
        "Dicionario"
      ],
      "metadata": {
        "colab": {
          "base_uri": "https://localhost:8080/"
        },
        "id": "nC2IT-jMaHJC",
        "outputId": "ae3d228e-24fc-465f-f45f-ebd20ab2134c"
      },
      "execution_count": null,
      "outputs": [
        {
          "output_type": "execute_result",
          "data": {
            "text/plain": [
              "{'Id': 2,\n",
              " 'Index': 'Valor',\n",
              " 'Lista': [1, 2, 'tres', True, [1, 2, 3]],\n",
              " 'Nome': 'Ricardo',\n",
              " 'Tupla': ('Texto', False, 2, 2.33)}"
            ]
          },
          "metadata": {},
          "execution_count": 27
        }
      ]
    },
    {
      "cell_type": "markdown",
      "source": [
        "# 5 -  Nomeação de Variáveis"
      ],
      "metadata": {
        "id": "Tes8Wr9jj48_"
      }
    },
    {
      "cell_type": "code",
      "source": [
        "# em uma linha\n",
        "FirstName, LastName = 'Ricardo', 'Martins',\n",
        "\n",
        "FirstName, LastName"
      ],
      "metadata": {
        "colab": {
          "base_uri": "https://localhost:8080/"
        },
        "id": "R70UIH-tj7uu",
        "outputId": "7fc34fd7-c336-4fd7-cd26-73c70234f328"
      },
      "execution_count": null,
      "outputs": [
        {
          "output_type": "execute_result",
          "data": {
            "text/plain": [
              "('Ricardo', 'Martins')"
            ]
          },
          "metadata": {},
          "execution_count": 29
        }
      ]
    },
    {
      "cell_type": "code",
      "source": [
        "# \n",
        "Numero01 = Numero02 = Numero03 = 99\n",
        "\n",
        "Numero01, Numero02, Numero03"
      ],
      "metadata": {
        "colab": {
          "base_uri": "https://localhost:8080/"
        },
        "id": "AGlO1T-nkS-f",
        "outputId": "e56d9b3a-312b-49d8-9ac9-aea948e5b45d"
      },
      "execution_count": null,
      "outputs": [
        {
          "output_type": "execute_result",
          "data": {
            "text/plain": [
              "(99, 99, 99)"
            ]
          },
          "metadata": {},
          "execution_count": 31
        }
      ]
    },
    {
      "cell_type": "code",
      "source": [
        "# nomear com lista\n",
        "Lista_Carros = ['VW','GM', 'Ford']\n",
        "\n",
        "marca_01, marca_02, marca_03 = Lista_Carros\n",
        "\n",
        "print(marca_01,marca_02,marca_03)"
      ],
      "metadata": {
        "colab": {
          "base_uri": "https://localhost:8080/"
        },
        "id": "jPhsnO7vk5fd",
        "outputId": "66a83dde-5efd-4a34-8af9-1236e4874543"
      },
      "execution_count": null,
      "outputs": [
        {
          "output_type": "stream",
          "name": "stdout",
          "text": [
            "VW GM Ford\n"
          ]
        }
      ]
    },
    {
      "cell_type": "code",
      "source": [
        "# Combinar Variáveis\n",
        "nome = 'Ricardo'\n",
        "sobrenome = 'Martins'\n",
        "\n",
        "NomeCompleto = nome + ' ' + sobrenome\n",
        "\n",
        "print(NomeCompleto)"
      ],
      "metadata": {
        "colab": {
          "base_uri": "https://localhost:8080/"
        },
        "id": "V-9kqLqUltYs",
        "outputId": "5c87a972-5768-418d-a4b1-8dd7757f3c05"
      },
      "execution_count": null,
      "outputs": [
        {
          "output_type": "stream",
          "name": "stdout",
          "text": [
            "Ricardo Martins\n"
          ]
        }
      ]
    },
    {
      "cell_type": "code",
      "source": [
        "# Convertendo Inteiro para String\n",
        "nome = 'Ricardo'\n",
        "idade = str(29)\n",
        "\n",
        "nome + ' ' + idade + ' anos'"
      ],
      "metadata": {
        "colab": {
          "base_uri": "https://localhost:8080/",
          "height": 35
        },
        "id": "FUO4-Rklkn6N",
        "outputId": "aee97667-6f7e-4927-8bcd-5fcd7ba67e51"
      },
      "execution_count": null,
      "outputs": [
        {
          "output_type": "execute_result",
          "data": {
            "text/plain": [
              "'Ricardo 29 anos'"
            ],
            "application/vnd.google.colaboratory.intrinsic+json": {
              "type": "string"
            }
          },
          "metadata": {},
          "execution_count": 35
        }
      ]
    },
    {
      "cell_type": "code",
      "source": [
        "# Convertendo String em Float\n",
        "investimento = 1000\n",
        "taxaJuros = float(0.2)\n",
        "\n",
        "investimento * taxaJuros\n",
        "\n",
        "ValorGanhado = (investimento * taxaJuros) + investimento\n",
        "\n",
        "print(ValorGanhado)"
      ],
      "metadata": {
        "colab": {
          "base_uri": "https://localhost:8080/"
        },
        "id": "r1bYtvHtmpUS",
        "outputId": "746f89a0-ef78-47fa-c68d-5b3664ea57cd"
      },
      "execution_count": null,
      "outputs": [
        {
          "output_type": "stream",
          "name": "stdout",
          "text": [
            "1200.0\n"
          ]
        }
      ]
    },
    {
      "cell_type": "markdown",
      "source": [
        "\n",
        "\n",
        "```\n",
        "# Isto está formatado como código\n",
        "```\n",
        "\n",
        "# **6 - Tipo da Informação**\n",
        "Na programação, o tipo de dados é um conceito importante.\n",
        "Variáveis ​​podem armazenar dados de diferentes tipos, e diferentes tipos podem fazer coisas diferentes.\n",
        "O Python tem os seguintes tipos de dados integrados por padrão, nestas categorias:\n",
        "1. Text Type: *str*\n",
        "2. Numeric Types:\t*int*, *float*, *complex*\n",
        "3. Sequence Types:\t*list*, *tuple*, *range*\n",
        "4. Mapping Type:\t*dict*\n",
        "5. Set Types:\t*set*, *frozenset*\n",
        "6. Boolean Type:\t*bool*\n",
        "7. Binary Types:\t*bytes*, *bytearray*, *memoryview*\n",
        "\n",
        "\n"
      ],
      "metadata": {
        "id": "EzcQuQoWry9R"
      }
    },
    {
      "cell_type": "code",
      "source": [
        "# Criando tipos de informações\n",
        "String = str('Olá Mundo!')\n",
        "Inteiro = int(10)\n",
        "Flutuante = float(10.99)\n",
        "Complex = complex(1j)\n",
        "Lista = list( ('Maça', 'Morango', 'Pera') )\n",
        "Tupla = tuple( ('Maça', 'Morango', 'Pera') )\n",
        "Range = range(6)\n",
        "Dicionario = dict(nome='Odemir', age=29)\n",
        "Set = set( ('Maça', 'Morango', 'Pera') )\n",
        "Fronzet = frozenset( ('Maça', 'Morango', 'Pera') )\n",
        "Boleano = bool(5)\n",
        "Bytes = bytes(5)\n",
        "ByteArray = bytearray(5)\n",
        "Memoryview = memoryview( bytes(5) )\n",
        "\n",
        "from datetime import datetime\n",
        "Data = datetime.today().date()\n",
        "\n",
        "# Mostrando os Valores\n",
        "print( type(String) )\n",
        "print( type(Inteiro) )\n",
        "print( type(Flutuante) )\n",
        "print( type(Complex) )\n",
        "print( type(Lista) )\n",
        "print( type(Tupla) )\n",
        "print( type(Range) )\n",
        "print( type(Dicionario) )\n",
        "print( type(Set) )\n",
        "print( type(Fronzet) )\n",
        "print( type(Boleano) )\n",
        "print( type(Bytes) )\n",
        "print( type(ByteArray) )\n",
        "print( type(Memoryview) )\n",
        "print( type(Data) )"
      ],
      "metadata": {
        "colab": {
          "base_uri": "https://localhost:8080/"
        },
        "id": "1C5eKdQgr4OZ",
        "outputId": "16ad4b09-3081-42fc-9212-622b75d560e8"
      },
      "execution_count": null,
      "outputs": [
        {
          "output_type": "stream",
          "name": "stdout",
          "text": [
            "<class 'str'>\n",
            "<class 'int'>\n",
            "<class 'float'>\n",
            "<class 'complex'>\n",
            "<class 'list'>\n",
            "<class 'tuple'>\n",
            "<class 'range'>\n",
            "<class 'dict'>\n",
            "<class 'set'>\n",
            "<class 'frozenset'>\n",
            "<class 'bool'>\n",
            "<class 'bytes'>\n",
            "<class 'bytearray'>\n",
            "<class 'memoryview'>\n",
            "<class 'datetime.date'>\n"
          ]
        }
      ]
    },
    {
      "cell_type": "code",
      "source": [
        ""
      ],
      "metadata": {
        "id": "MGdoJMBMr943"
      },
      "execution_count": null,
      "outputs": []
    },
    {
      "cell_type": "markdown",
      "source": [
        "# 7 - Comando Round\n"
      ],
      "metadata": {
        "id": "zNPaaLH5hb6J"
      }
    },
    {
      "cell_type": "code",
      "source": [
        "# comando round : define quantas casas decimais quero exibir\n",
        "valor = 16.8464645\n",
        "print(valor)\n",
        "\n",
        "# com duas casas decimais\n",
        "round(valor, 2)"
      ],
      "metadata": {
        "colab": {
          "base_uri": "https://localhost:8080/"
        },
        "id": "VQY4Bh-8hjBy",
        "outputId": "16b12e9d-944f-4fdd-c3b2-9421729ca645"
      },
      "execution_count": null,
      "outputs": [
        {
          "output_type": "stream",
          "name": "stdout",
          "text": [
            "16.8464645\n"
          ]
        },
        {
          "output_type": "execute_result",
          "data": {
            "text/plain": [
              "16.85"
            ]
          },
          "metadata": {},
          "execution_count": 8
        }
      ]
    },
    {
      "cell_type": "markdown",
      "source": [
        "# 8 - Comando Len"
      ],
      "metadata": {
        "id": "y3PwRc3kijsi"
      }
    },
    {
      "cell_type": "code",
      "source": [
        "# comando len retorna a quantiade de elementos de uma lista\n",
        "\n",
        "lista = [0,1,2,3,4,5,6,7,8,9]\n",
        "dicionario = {'Nome': 'Mayara','idade': 28}\n",
        "tupla = ('a','b', 'c')\n",
        "string = 'Comando Len'\n",
        "\n",
        "len(dicionario)"
      ],
      "metadata": {
        "colab": {
          "base_uri": "https://localhost:8080/"
        },
        "id": "o2M1RujDipas",
        "outputId": "b28b8767-0b38-4fcd-c31b-6cf3b7ba457f"
      },
      "execution_count": null,
      "outputs": [
        {
          "output_type": "execute_result",
          "data": {
            "text/plain": [
              "2"
            ]
          },
          "metadata": {},
          "execution_count": 14
        }
      ]
    },
    {
      "cell_type": "markdown",
      "source": [
        "# 9 - Fatiamento de Strings\n",
        "\n",
        "Strings são lista de bytes representando caracteres.<p>\n",
        "Podemos acessar suas posições usando Colchetes.<p>\n",
        "String [Posicão inicial:Posição final]\n"
      ],
      "metadata": {
        "id": "XXWXSjnlj33n"
      }
    },
    {
      "cell_type": "code",
      "source": [
        "minha_string = 'Aprendendo a fatiar strings!'\n",
        "data = '01 de abril de 2022'\n",
        "\n",
        "print(type(minha_string))\n",
        "print(len(minha_string))\n",
        "\n",
        "minha_string[0] # primeira posição\n",
        "minha_string[-1] # inverte a posição da lista, retorna o ultima posição\n",
        "minha_string[-10]\n",
        "minha_string[10:] # retorna apartir da décima posição\n",
        "minha_string[-10:] # retorna as últimas da dez posições\n",
        "minha_string[0:10] # retorna da posição 0 a dez - intervalo\n",
        "\n",
        "\n",
        "data[0:2] # pegando o dia da data\n",
        "\n",
        "\n"
      ],
      "metadata": {
        "colab": {
          "base_uri": "https://localhost:8080/",
          "height": 70
        },
        "id": "OX8CzbjMk7Ul",
        "outputId": "7908b1cf-c44f-49d6-cd16-d335a42269a2"
      },
      "execution_count": null,
      "outputs": [
        {
          "output_type": "stream",
          "name": "stdout",
          "text": [
            "<class 'str'>\n",
            "28\n"
          ]
        },
        {
          "output_type": "execute_result",
          "data": {
            "text/plain": [
              "'01'"
            ],
            "application/vnd.google.colaboratory.intrinsic+json": {
              "type": "string"
            }
          },
          "metadata": {},
          "execution_count": 29
        }
      ]
    },
    {
      "cell_type": "markdown",
      "source": [
        "# **10 - Manipulação de Strings**<p>\n",
        "Um tipo de dados bastante usado no dia a dia são as strings, ou cadeias de caracteres (ou sequências de caracteres). O tipo de dados string, ou str como é chamado em Python, possui várias operações úteis associadas a ele. Essas operações tornam Python uma linguagem bastante propícia para manipulação de textos.\n",
        "Algumas funções mais utilizadas:\n",
        "\n",
        "1. replace()\n",
        "2. startswith()\n",
        "3. endswith()\n",
        "4. count()\n",
        "5. capitalize()\n",
        "6. isdigit()\n",
        "7. isalnum()\n",
        "8. upper()\n",
        "9. lower()\n",
        "10. find ()\n",
        "11. strip()\n",
        "12. split()"
      ],
      "metadata": {
        "id": "ydMR3H4xF4zC"
      }
    },
    {
      "cell_type": "code",
      "source": [
        "# replace()\n",
        "cpf = 'CPF:3554915614'\n",
        "cpf.replace('CPF:','')\n",
        "int(cpf.replace('CPF:','')) # convertendo para inteiro\n",
        "type(int(cpf.replace('CPF:',''))) # mostrando o tipo\n",
        "\n",
        "\n"
      ],
      "metadata": {
        "colab": {
          "base_uri": "https://localhost:8080/"
        },
        "id": "L5yhyUsxGB4u",
        "outputId": "8fb38bc2-1766-41d7-c8e6-a78688df3274"
      },
      "execution_count": null,
      "outputs": [
        {
          "output_type": "execute_result",
          "data": {
            "text/plain": [
              "int"
            ]
          },
          "metadata": {},
          "execution_count": 43
        }
      ]
    },
    {
      "cell_type": "code",
      "source": [
        "# startswith() --> verifica o começo\n",
        "\n",
        "nome = 'Olá mundo!'\n",
        "\n",
        "nome.startswith('Olá') # retorna um valor booleano true ou false"
      ],
      "metadata": {
        "colab": {
          "base_uri": "https://localhost:8080/"
        },
        "id": "fVFXhH6TIEA8",
        "outputId": "c66549a3-4bd7-4902-ada3-b61e580b5f97"
      },
      "execution_count": null,
      "outputs": [
        {
          "output_type": "execute_result",
          "data": {
            "text/plain": [
              "True"
            ]
          },
          "metadata": {},
          "execution_count": 45
        }
      ]
    },
    {
      "cell_type": "code",
      "source": [
        "# endswith() --> verifica o final\n",
        "\n",
        "string = 'aprendendo python!'\n",
        "\n",
        "string.endswith('on')  # retorna um valor booleano true ou false\n"
      ],
      "metadata": {
        "colab": {
          "base_uri": "https://localhost:8080/"
        },
        "id": "2BfNw5_QI5YE",
        "outputId": "1e0ef923-f727-4e05-cf5c-a34a84f72a57"
      },
      "execution_count": null,
      "outputs": [
        {
          "output_type": "execute_result",
          "data": {
            "text/plain": [
              "False"
            ]
          },
          "metadata": {},
          "execution_count": 49
        }
      ]
    },
    {
      "cell_type": "code",
      "source": [
        "# count() --> contar palavras ou letras\n",
        "\n",
        "string.count('n')"
      ],
      "metadata": {
        "colab": {
          "base_uri": "https://localhost:8080/"
        },
        "id": "eAIo5fVlJdgQ",
        "outputId": "16a0354f-ac3e-4f96-f936-cefb74f58b9a"
      },
      "execution_count": null,
      "outputs": [
        {
          "output_type": "execute_result",
          "data": {
            "text/plain": [
              "3"
            ]
          },
          "metadata": {},
          "execution_count": 53
        }
      ]
    },
    {
      "cell_type": "code",
      "source": [
        "# capitalize() --> Transforma o primeiro carater em maiuscula\n",
        "string.capitalize()"
      ],
      "metadata": {
        "colab": {
          "base_uri": "https://localhost:8080/",
          "height": 35
        },
        "id": "_xj8lYKQKD5y",
        "outputId": "0a449ab8-3f04-47be-9bbb-3245a1a1cb27"
      },
      "execution_count": null,
      "outputs": [
        {
          "output_type": "execute_result",
          "data": {
            "text/plain": [
              "'Aprendendo python!'"
            ],
            "application/vnd.google.colaboratory.intrinsic+json": {
              "type": "string"
            }
          },
          "metadata": {},
          "execution_count": 55
        }
      ]
    },
    {
      "cell_type": "code",
      "source": [
        "# isdigit() --> verifica se possui valor numérico\n",
        "\n",
        "string_CPF = '123456789A'\n",
        "\n",
        "string_CPF.isdigit() # retorna um valor booleano true ou false"
      ],
      "metadata": {
        "colab": {
          "base_uri": "https://localhost:8080/"
        },
        "id": "_9keZiPOKw8K",
        "outputId": "96efd12b-ccc5-482f-a82b-71be5a212173"
      },
      "execution_count": null,
      "outputs": [
        {
          "output_type": "execute_result",
          "data": {
            "text/plain": [
              "False"
            ]
          },
          "metadata": {},
          "execution_count": 62
        }
      ]
    },
    {
      "cell_type": "code",
      "source": [
        "# isallnum() --> verifica é alfa-numerica\n",
        "\n",
        "alfa_numerica = 'AAAA5432534'\n",
        "\n",
        "alfa_numerica.isalnum()"
      ],
      "metadata": {
        "colab": {
          "base_uri": "https://localhost:8080/"
        },
        "id": "o5YofutHLLFO",
        "outputId": "cd1f69f7-3e2f-45e3-a70f-96a716915064"
      },
      "execution_count": null,
      "outputs": [
        {
          "output_type": "execute_result",
          "data": {
            "text/plain": [
              "True"
            ]
          },
          "metadata": {},
          "execution_count": 71
        }
      ]
    },
    {
      "cell_type": "code",
      "source": [
        "# upper() --> Transforma minusculo pra maiusculo\n",
        "\n",
        "name = 'mayara'\n",
        "\n",
        "name.upper()\n",
        "\n"
      ],
      "metadata": {
        "colab": {
          "base_uri": "https://localhost:8080/",
          "height": 35
        },
        "id": "QYBooQSdMQp0",
        "outputId": "53434346-ea9b-4cc9-f110-31a4770377e0"
      },
      "execution_count": null,
      "outputs": [
        {
          "output_type": "execute_result",
          "data": {
            "text/plain": [
              "'MAYARA'"
            ],
            "application/vnd.google.colaboratory.intrinsic+json": {
              "type": "string"
            }
          },
          "metadata": {},
          "execution_count": 72
        }
      ]
    },
    {
      "cell_type": "code",
      "source": [
        "# lower() --> Transforma maiusculo pra minusculo\n",
        "\n",
        "name = 'MAYARA'\n",
        "\n",
        "print(name.lower())\n",
        "print(name.lower().capitalize())"
      ],
      "metadata": {
        "colab": {
          "base_uri": "https://localhost:8080/"
        },
        "id": "eY3x4oE9NPXs",
        "outputId": "a6d2c78c-6721-4b15-e44d-c22dd8589598"
      },
      "execution_count": null,
      "outputs": [
        {
          "output_type": "stream",
          "name": "stdout",
          "text": [
            "mayara\n",
            "Mayara\n"
          ]
        }
      ]
    },
    {
      "cell_type": "code",
      "source": [
        "# find() --> procura valor dentro da string\n",
        "\n",
        "frase = 'procurando um valor em especifico'\n",
        "\n",
        "print(frase.find('valor')) # retorna posição que começa o valor\n",
        "print(frase.find('xx')) # retona -1 caso não encontre o valor especificado"
      ],
      "metadata": {
        "colab": {
          "base_uri": "https://localhost:8080/"
        },
        "id": "dfPp4RZYN3wn",
        "outputId": "fd4a1e7b-7cb1-465a-b094-afdd1ceb5cfe"
      },
      "execution_count": null,
      "outputs": [
        {
          "output_type": "stream",
          "name": "stdout",
          "text": [
            "14\n",
            "-1\n"
          ]
        }
      ]
    },
    {
      "cell_type": "code",
      "source": [
        "# strip() --> remove espaços antes e depois da string\n",
        "\n",
        "endereco = ' rua joão da silva, n 323 '\n",
        "\n",
        "endereco.strip()"
      ],
      "metadata": {
        "colab": {
          "base_uri": "https://localhost:8080/",
          "height": 35
        },
        "id": "T29KY6RcS30m",
        "outputId": "19647704-b222-4d63-c865-0247f87cea1f"
      },
      "execution_count": null,
      "outputs": [
        {
          "output_type": "execute_result",
          "data": {
            "text/plain": [
              "'rua joão da silva, n 323'"
            ],
            "application/vnd.google.colaboratory.intrinsic+json": {
              "type": "string"
            }
          },
          "metadata": {},
          "execution_count": 89
        }
      ]
    },
    {
      "cell_type": "code",
      "source": [
        "# split() -->\n",
        "\n",
        "endereco_completo = 'Avenida getulio vargas, 123, Centro, Uberlândia, MG'\n",
        "\n",
        "lista = endereco_completo.split(',') # quebra a string no caracter informado\n",
        "print(lista)\n"
      ],
      "metadata": {
        "colab": {
          "base_uri": "https://localhost:8080/"
        },
        "id": "wcFXSsfwTOoJ",
        "outputId": "8009dd65-2123-4fdf-aebc-c275d5fbdfdd"
      },
      "execution_count": null,
      "outputs": [
        {
          "output_type": "stream",
          "name": "stdout",
          "text": [
            "['Avenida getulio vargas', ' 123', ' Centro', ' Uberlândia', ' MG']\n"
          ]
        }
      ]
    },
    {
      "cell_type": "markdown",
      "source": [
        "# **11 - Comando Input**\n",
        "A função input() recebe como parâmetro uma string que será mostrada como auxílio ao usuário, geralmente o informando que tipo de dado o programa está aguardando receber.\n",
        "\n",
        "input()"
      ],
      "metadata": {
        "id": "_9QjneoIUspp"
      }
    },
    {
      "cell_type": "code",
      "source": [
        "# input()\n",
        "\n",
        "nome = input('Digite seu nome: ')\n",
        "idade = input('Digite sua idade: ')\n",
        "\n",
        "print ('Seu nome é: ', nome)\n",
        "print ('Sua idade é: ', idade, 'anos')"
      ],
      "metadata": {
        "colab": {
          "base_uri": "https://localhost:8080/"
        },
        "id": "oVfnwI20VC-_",
        "outputId": "0633896d-07a8-4b76-ef39-4673ea5a87a0"
      },
      "execution_count": null,
      "outputs": [
        {
          "output_type": "stream",
          "name": "stdout",
          "text": [
            "Digite seu nome: ricardo\n",
            "Digite sua idade: 32\n",
            "Seu nome é:  ricardo\n",
            "Sua idade é:  32 anos\n"
          ]
        }
      ]
    },
    {
      "cell_type": "markdown",
      "source": [
        "# **12 - Operadores de Comparação**\n",
        "Os operadores de comparação são usados ​​para comparar dois valores:\n",
        "1. '==' ( Igual a )\n",
        "2. '!=' ( Diferente )\n",
        "3. '>' ( Maior )\n",
        "4. '<' ( Menor )\n",
        "5. '>=' ( Maior igual )\n",
        "6. '<=' ( Menor igual )"
      ],
      "metadata": {
        "id": "6xRKnM3cVy6N"
      }
    },
    {
      "cell_type": "code",
      "source": [
        "print(10 == 11)\n",
        "print(10 != 10)\n",
        "print(10 > 2)\n",
        "print(10 >= 10)\n",
        "\n"
      ],
      "metadata": {
        "colab": {
          "base_uri": "https://localhost:8080/"
        },
        "id": "bzM2-cxVV7NE",
        "outputId": "a70099c2-0ae3-4fdd-df31-b824d98ea10a"
      },
      "execution_count": null,
      "outputs": [
        {
          "output_type": "stream",
          "name": "stdout",
          "text": [
            "False\n",
            "False\n",
            "True\n",
            "True\n"
          ]
        }
      ]
    },
    {
      "cell_type": "markdown",
      "source": [
        "# 13 - Operadores Lógicos\n",
        "Os operadores lógicos são usados ​​para combinar instruções condicionais:\n",
        "1. and (Retorna True se ambas as declarações forem verdadeiras)\n",
        "2. or (Retorna True se uma das declarações for verdadeira)\n",
        "3. not (Inverte o resultado, retorna False se o resultado for verdadeiro)"
      ],
      "metadata": {
        "id": "AHhVzxalYp3J"
      }
    },
    {
      "cell_type": "code",
      "source": [
        "# Operadores de Comparações - Parte 2\n",
        "And = 'and'\n",
        "Ou = 'or'\n",
        "Negação = 'not'\n",
        "\n",
        "print('8 é maior que 7 e 7 maior que 8:', 8 > 7 and 7 > 8 )\n",
        "print('8 é maior que 7 e 7 menor que 8:', 8 > 7 and 7 < 8 )\n",
        "print('8 é maior que 7 ou 7 menor que 8:', 8 == 7 or 7 == 8 )\n",
        "print('8 é maior que 7 ou 7 menor que 8:', 8 > 7 or 7 > 8 )"
      ],
      "metadata": {
        "colab": {
          "base_uri": "https://localhost:8080/"
        },
        "id": "LNzEKo9QaX20",
        "outputId": "d83379ff-5a4e-49ab-81ff-f361fbf9e261"
      },
      "execution_count": null,
      "outputs": [
        {
          "output_type": "stream",
          "name": "stdout",
          "text": [
            "8 é maior que 7 e 7 maior que 8: False\n",
            "8 é maior que 7 e 7 menor que 8: True\n",
            "8 é maior que 7 ou 7 menor que 8: False\n",
            "8 é maior que 7 ou 7 menor que 8: True\n"
          ]
        }
      ]
    },
    {
      "cell_type": "code",
      "source": [
        "# not\n",
        "\n",
        "lista = [1,2,3,4,5]\n",
        "\n",
        "print(3 in lista) # verifica se o valor consta na lista\n",
        "print(10 not in lista) # verifica se o 10 não consta na lista\n"
      ],
      "metadata": {
        "colab": {
          "base_uri": "https://localhost:8080/"
        },
        "id": "ptt13gWheyzv",
        "outputId": "bc79c11a-be92-4bad-efab-03c7302f7561"
      },
      "execution_count": null,
      "outputs": [
        {
          "output_type": "stream",
          "name": "stdout",
          "text": [
            "True\n",
            "True\n"
          ]
        }
      ]
    },
    {
      "cell_type": "markdown",
      "source": [
        "# 14 -  Operadores de Identidade\n",
        "Os operadores de identidade são usados ​​para comparar os objetos, não se forem iguais, mas se forem realmente o mesmo objeto, com a mesma localização de memória:\n",
        "\n",
        "is (Retorna True se ambas as variáveis ​​forem o mesmo objeto)<p>\n",
        "is not (Retorna True se ambas as variáveis ​​não forem o mesmo objeto)"
      ],
      "metadata": {
        "id": "2BoRhNfdf3yq"
      }
    },
    {
      "cell_type": "code",
      "source": [
        "String_01 = str('Olá Mundão')\n",
        "String_02 = str('Olá Mundão')\n",
        "\n",
        "print( String_01 is String_01 )\n",
        "print( String_01 is String_02 )\n",
        "print( String_01 == String_02 )\n",
        "print( type(String_01) is type(String_02) )\n",
        "print( type(String_01) is not type(String_02) )"
      ],
      "metadata": {
        "colab": {
          "base_uri": "https://localhost:8080/"
        },
        "id": "UGn5d1vdf88C",
        "outputId": "1828f637-0558-4beb-82e7-8ec7052bed10"
      },
      "execution_count": null,
      "outputs": [
        {
          "output_type": "stream",
          "name": "stdout",
          "text": [
            "True\n",
            "False\n",
            "True\n",
            "True\n",
            "False\n"
          ]
        }
      ]
    },
    {
      "cell_type": "markdown",
      "source": [
        "# 15 - Operadores de Associação\n",
        "Os operadores de associação são usados ​​para testar se uma sequência é apresentada em um objeto:\n",
        "1. in (Retorna True se uma sequência com o valor especificado estiver presente no objeto)\n",
        "2. not in (Retorna True se uma sequência com o valor especificado não estiver presente no objeto)"
      ],
      "metadata": {
        "id": "Tpb0l632h1n_"
      }
    },
    {
      "cell_type": "code",
      "source": [
        "Lista_Ações = ['Magalu', 'Via', 'Assai', 'Carrefour']\n",
        "\n",
        "print( 'Via' in Lista_Ações )\n",
        "print( 'Via' not in Lista_Ações )"
      ],
      "metadata": {
        "colab": {
          "base_uri": "https://localhost:8080/"
        },
        "id": "BkEDR5ZUh6w-",
        "outputId": "191762a0-2543-49e4-e255-d4bef64735f9"
      },
      "execution_count": null,
      "outputs": [
        {
          "output_type": "stream",
          "name": "stdout",
          "text": [
            "True\n",
            "False\n"
          ]
        }
      ]
    },
    {
      "cell_type": "markdown",
      "source": [
        "# 16 - Manipulando Listas\n",
        "As listas são usadas para armazenar vários itens em uma única variável.\n",
        "\n",
        "As listas são um dos 4 tipos de dados internos do Python usados ​​para armazenar coleções de dados, os outros 3 são Tuple , Set e Dictionary , todos com qualidades e usos diferentes.<p>\n",
        "Comandos mais utilizados:\n",
        "1. append() - Para adicionar um item ao final da lista\n",
        "2. len() - Calcular o tamanho da lista\n",
        "3. [  ] - Acessar posições\n",
        "4. del() - Exlcuir um elemtno\n",
        "5. clear() - Limpar a lista\n",
        "6. insert() - Para inserir um item de lista em um índice especificado\n",
        "7. extend() - Anexar elementos de outra lista à lista atual\n",
        "8. remove() - Remove o item especificado\n",
        "9. pop() - Remove o índice especificado.\n",
        "10. sort() - Ordenar os valores\n",
        "11. copy() - Faz uma copia da Lista\n",
        "12. index() - Retorna o index do elemento da lista"
      ],
      "metadata": {
        "id": "IkRMKzIrp97R"
      }
    },
    {
      "cell_type": "code",
      "source": [
        "lista_01 = [1,2,'a','b',3, 4]\n",
        "lista_02 = ['python', 1 , 2 , True]\n",
        "\n",
        "print('Lista_01: ', lista_01)\n",
        "lista_01.append('c') # adiciona elemento na lista\n",
        "print(lista_01)\n",
        "\n",
        "len(lista_01) # mostra quantos elemento tem na lista\n",
        "print(lista_01[2]) # mostra valor em uma posição especifica\n",
        "\n",
        "del(lista_01[0]) # exclui elemento da lista\n",
        "print(lista_01)\n",
        "\n",
        "lista_01.insert(4, False) # insere um elemento em um posição especifica\n",
        "print(lista_01)\n",
        "\n",
        "'''\n",
        "lista_01.clear()\n",
        "print(lista_01)\n",
        "'''\n",
        "\n",
        "lista_01.extend(lista_02) # juntar elementos de um lista em outra\n",
        "print(lista_01)\n",
        "\n",
        "lista_01.remove('b') # remove elemento especificado\n",
        "print(lista_01)\n",
        "\n",
        "lista_01.pop(3)\n",
        "print(lista_01) # remove elemento de uma posição especifica\n",
        "\n",
        "lista_01 = [11,3,1,9,15]\n",
        "lista_01.sort() # ordena valores do mesmo tipo\n",
        "print(lista_01)\n",
        "\n",
        "lista_nova = lista_01.copy() # faz a copia de uma lista\n",
        "print('lista_nova: ', lista_nova)\n",
        "\n",
        "print(lista_nova.index(11))\n",
        "\n"
      ],
      "metadata": {
        "colab": {
          "base_uri": "https://localhost:8080/"
        },
        "id": "xArxeSmTqCGT",
        "outputId": "61d67fee-5820-4479-819d-cfc002492c37"
      },
      "execution_count": null,
      "outputs": [
        {
          "output_type": "stream",
          "name": "stdout",
          "text": [
            "Lista_01:  [1, 2, 'a', 'b', 3, 4]\n",
            "[1, 2, 'a', 'b', 3, 4, 'c']\n",
            "a\n",
            "[2, 'a', 'b', 3, 4, 'c']\n",
            "[2, 'a', 'b', 3, False, 4, 'c']\n",
            "[2, 'a', 'b', 3, False, 4, 'c', 'python', 1, 2, True]\n",
            "[2, 'a', 3, False, 4, 'c', 'python', 1, 2, True]\n",
            "[2, 'a', 3, 4, 'c', 'python', 1, 2, True]\n",
            "[1, 3, 9, 11, 15]\n",
            "lista_nova:  [1, 3, 9, 11, 15]\n",
            "3\n"
          ]
        }
      ]
    },
    {
      "cell_type": "markdown",
      "source": [
        "# 17 - Pacote Externo - Datetime\n",
        "O datetime módulo fornece classes para manipulação de datas e horas."
      ],
      "metadata": {
        "id": "sdRuEfgS6O3b"
      }
    },
    {
      "cell_type": "code",
      "source": [
        ""
      ],
      "metadata": {
        "id": "xjSNWVyM6SgL"
      },
      "execution_count": null,
      "outputs": []
    }
  ]
}